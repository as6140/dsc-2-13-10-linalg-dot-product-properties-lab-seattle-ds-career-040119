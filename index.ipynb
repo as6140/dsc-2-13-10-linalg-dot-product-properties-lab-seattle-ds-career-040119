{
 "cells": [
  {
   "cell_type": "markdown",
   "metadata": {},
   "source": [
    "# Properties of Dot Product - Lab"
   ]
  },
  {
   "cell_type": "markdown",
   "metadata": {},
   "source": [
    "## Introduction\n",
    "\n",
    "In this lab we shall look at some interesting properties of a Dot product type matrix multiplication. Understanding these properties will become useful as we move forward with machine learning advanced linear algebra. The lab will require you to calculate results to provide a proof for these properties.\n",
    "\n",
    "## Objectives\n",
    "You will be able to:\n",
    "* Understand and analytically explain Distributive, Commutative and Associative properties of dot product\n",
    "\n",
    "## Instructions\n",
    "\n",
    "* For each property, create suitably sized matrices with random data and prove the equations \n",
    "* Ensure that size/dimension assumptions are met while performing calculations (you'll see errors otherwise)\n",
    "* Calculate the LHS and RHS for all equations and show if they are equal or not"
   ]
  },
  {
   "cell_type": "markdown",
   "metadata": {},
   "source": [
    "## Distributive Property - Matrices multiplication is distributive\n",
    "### Prove that A.(B+C)=A.B+A.C"
   ]
  },
  {
   "cell_type": "code",
   "execution_count": 19,
   "metadata": {},
   "outputs": [],
   "source": [
    "# Your code here\n",
    "import numpy as np\n",
    "import random\n",
    "def create_random_matrix(rows,columns):\n",
    "    new_array = np.zeros([rows,columns])\n",
    "    for x in range(0, new_array.shape[0]):\n",
    "        for y in range(0, new_array.shape[1]):\n",
    "            new_array[x][y] = random.randrange(1, 10)\n",
    "    return np.array(new_array)"
   ]
  },
  {
   "cell_type": "code",
   "execution_count": 30,
   "metadata": {},
   "outputs": [],
   "source": [
    "mat_A = np.array(create_random_matrix(4,4))\n",
    "\n",
    "mat_B = np.array(create_random_matrix(4,4))\n",
    "\n",
    "mat_C = np.array(create_random_matrix(4,4))\n",
    "type(mat_C)\n",
    "\n",
    "mat_B_plus_C = mat_B+mat_C"
   ]
  },
  {
   "cell_type": "code",
   "execution_count": 31,
   "metadata": {},
   "outputs": [
    {
     "name": "stdout",
     "output_type": "stream",
     "text": [
      "[[235. 218. 215. 190.]\n",
      " [240. 202. 280. 190.]\n",
      " [325. 289. 348. 263.]\n",
      " [265. 238. 252. 212.]]\n",
      "should be equal to...\n",
      "[[235. 218. 215. 190.]\n",
      " [240. 202. 280. 190.]\n",
      " [325. 289. 348. 263.]\n",
      " [265. 238. 252. 212.]]\n"
     ]
    }
   ],
   "source": [
    "print(mat_A.dot(mat_B_plus_C))\n",
    "print(\"should be equal to...\")\n",
    "print(mat_A.dot(mat_B)+mat_A.dot(mat_C))"
   ]
  },
  {
   "cell_type": "markdown",
   "metadata": {},
   "source": [
    "## Associative Property - Matrices multiplication is associative\n",
    "### Prove that A.(B.C)=(A.B).C"
   ]
  },
  {
   "cell_type": "code",
   "execution_count": 34,
   "metadata": {},
   "outputs": [
    {
     "name": "stdout",
     "output_type": "stream",
     "text": [
      "[[2800. 2364. 2106. 1366.]\n",
      " [3050. 2556. 2224. 1553.]\n",
      " [3918. 3273. 2920. 1968.]\n",
      " [3092. 2598. 2304. 1540.]]\n",
      "should be equal to...\n",
      "[[2800. 2364. 2106. 1366.]\n",
      " [3050. 2556. 2224. 1553.]\n",
      " [3918. 3273. 2920. 1968.]\n",
      " [3092. 2598. 2304. 1540.]]\n"
     ]
    }
   ],
   "source": [
    "# Your code here \n",
    "print(mat_A.dot(mat_B.dot(mat_C)))\n",
    "print(\"should be equal to...\")\n",
    "print(mat_A.dot(mat_B).dot(mat_C))"
   ]
  },
  {
   "cell_type": "markdown",
   "metadata": {},
   "source": [
    "## Commutative Property - Matrix multiplication is NOT commutative\n",
    "### Prove that for matrices, A.B ≠ B.A"
   ]
  },
  {
   "cell_type": "code",
   "execution_count": 35,
   "metadata": {},
   "outputs": [
    {
     "name": "stdout",
     "output_type": "stream",
     "text": [
      "[[ 92.  87. 127. 100.]\n",
      " [ 85.  79. 142. 137.]\n",
      " [111. 106. 188. 168.]\n",
      " [ 94.  88. 144. 124.]]\n",
      "should NOT be equal to...\n",
      "[[106. 112. 110.  83.]\n",
      " [101.  99.  96.  88.]\n",
      " [157. 145. 161. 133.]\n",
      " [140. 130. 143. 117.]]\n"
     ]
    }
   ],
   "source": [
    "# Your code here \n",
    "print(mat_A.dot(mat_B))\n",
    "print(\"should NOT be equal to...\")\n",
    "print(mat_B.dot(mat_A))"
   ]
  },
  {
   "cell_type": "markdown",
   "metadata": {},
   "source": [
    "## Commutative Property -  vector multiplication IS commutative\n",
    "### Prove that for vectors, x<sup>T</sup> . y = y<sup>T</sup> . x\n",
    "Note: superscipt<sup>T</sup> denotes the transpose we saw earlier"
   ]
  },
  {
   "cell_type": "code",
   "execution_count": 41,
   "metadata": {},
   "outputs": [
    {
     "name": "stdout",
     "output_type": "stream",
     "text": [
      "[[3.]\n",
      " [5.]\n",
      " [2.]\n",
      " [5.]]\n",
      "[[1.]\n",
      " [9.]\n",
      " [2.]\n",
      " [9.]]\n"
     ]
    }
   ],
   "source": [
    "# Your code here \n",
    "vec_x = np.array(create_random_matrix(4,1))\n",
    "vec_y = np.array(create_random_matrix(4,1))\n",
    "print(vec_x)\n",
    "print(vec_y)"
   ]
  },
  {
   "cell_type": "code",
   "execution_count": 42,
   "metadata": {},
   "outputs": [],
   "source": [
    "vec_x_transp = vec_x.T\n",
    "vec_y_transp = vec_y.T"
   ]
  },
  {
   "cell_type": "code",
   "execution_count": 43,
   "metadata": {},
   "outputs": [
    {
     "name": "stdout",
     "output_type": "stream",
     "text": [
      "[[97.]]\n",
      "should equal...\n",
      "[[97.]]\n"
     ]
    }
   ],
   "source": [
    "print (vec_x_transp.dot(vec_y))\n",
    "print (\"should equal...\")\n",
    "print (vec_y_transp.dot(vec_x) )"
   ]
  },
  {
   "cell_type": "markdown",
   "metadata": {},
   "source": [
    "#### and finally \n",
    "## Simplification of the matrix product\n",
    "### Prove that  (A.B)<sup>T</sup> = B<sup>T</sup> . A<sup>T</sup>"
   ]
  },
  {
   "cell_type": "code",
   "execution_count": 5,
   "metadata": {},
   "outputs": [],
   "source": [
    "# Your code here \n",
    "print(mat_A.dot(mat_B).T)\n",
    "print(\"should equal...\")\n",
    "print(mat_B.T)"
   ]
  },
  {
   "cell_type": "markdown",
   "metadata": {},
   "source": [
    "## Summary \n",
    "\n",
    "So now we have seen enough matrix algebra to help us solve a problem of linear equations as we saw earlier in this section. We shall see how to do this next. "
   ]
  }
 ],
 "metadata": {
  "kernelspec": {
   "display_name": "Python 3",
   "language": "python",
   "name": "python3"
  },
  "language_info": {
   "codemirror_mode": {
    "name": "ipython",
    "version": 3
   },
   "file_extension": ".py",
   "mimetype": "text/x-python",
   "name": "python",
   "nbconvert_exporter": "python",
   "pygments_lexer": "ipython3",
   "version": "3.6.6"
  }
 },
 "nbformat": 4,
 "nbformat_minor": 2
}
